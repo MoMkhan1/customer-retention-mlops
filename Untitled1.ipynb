{
 "cells": [
  {
   "cell_type": "code",
   "execution_count": 24,
   "id": "3c31aa08-5519-46e4-a9d2-463cae711bd4",
   "metadata": {},
   "outputs": [],
   "source": [
    "import os\n",
    "import matplotlib.pyplot as plt\n",
    "from sklearn.metrics import ConfusionMatrixDisplay, roc_curve, auc\n",
    "from sklearn.linear_model import LogisticRegression\n",
    "from sklearn.datasets import make_classification\n",
    "from sklearn.model_selection import train_test_split\n",
    "from sklearn.metrics import accuracy_score\n",
    "\n",
    "def train_and_evaluate_model():\n",
    "    # Generate data\n",
    "    X, y = make_classification(n_samples=1000, n_features=20, random_state=42)\n",
    "\n",
    "    # Split data\n",
    "    X_train, X_test, y_train, y_test = train_test_split(X, y, test_size=0.3, random_state=42)\n",
    "\n",
    "    # Train model\n",
    "    model = LogisticRegression(max_iter=1000)\n",
    "    model.fit(X_train, y_train)\n",
    "\n",
    "    # Predict & accuracy\n",
    "    y_pred = model.predict(X_test)\n",
    "    accuracy = accuracy_score(y_test, y_pred)\n",
    "    print(f\"Model Accuracy: {accuracy:.2f}\")\n",
    "\n",
    "    # Create graphs folder\n",
    "    graph_dir = os.path.join(os.getcwd(), 'graphs')\n",
    "    os.makedirs(graph_dir, exist_ok=True)\n",
    "\n",
    "    # Confusion Matrix\n",
    "    cm_disp = ConfusionMatrixDisplay.from_estimator(model, X_test, y_test, cmap=plt.cm.Blues)\n",
    "    cm_path = os.path.join(graph_dir, 'confusion_matrix.png')\n",
    "    plt.savefig(cm_path)\n",
    "    plt.close()\n",
    "\n",
    "    # ROC Curve\n",
    "    y_prob = model.predict_proba(X_test)[:, 1]\n",
    "    fpr, tpr, _ = roc_curve(y_test, y_prob)\n",
    "    roc_auc = auc(fpr, tpr)\n",
    "\n",
    "    plt.figure()\n",
    "    plt.plot(fpr, tpr, color='darkorange', label=f'ROC curve (area = {roc_auc:.2f})')\n",
    "    plt.plot([0, 1], [0, 1], color='navy', linestyle='--')\n",
    "    plt.xlabel('False Positive Rate')\n",
    "    plt.ylabel('True Positive Rate')\n",
    "    plt.title('Receiver Operating Characteristic')\n",
    "    plt.legend(loc=\"lower right\")\n",
    "\n",
    "    roc_path = os.path.join(graph_dir, 'roc_curve.png')\n",
    "    plt.savefig(roc_path)\n",
    "    plt.close()\n",
    "\n",
    "    print(f\"Confusion matrix saved to: {cm_path}\")\n",
    "    print(f\"ROC curve saved to: {roc_path}\")\n",
    "\n",
    "    return accuracy\n"
   ]
  },
  {
   "cell_type": "code",
   "execution_count": 25,
   "id": "53fb311b-83d0-4cf1-9603-63536c3b869e",
   "metadata": {},
   "outputs": [
    {
     "name": "stdout",
     "output_type": "stream",
     "text": [
      "Model Accuracy: 0.85\n",
      "Confusion matrix saved to: F:\\GITHUB\\customer-retention-mlops\\graphs\\confusion_matrix.png\n",
      "ROC curve saved to: F:\\GITHUB\\customer-retention-mlops\\graphs\\roc_curve.png\n",
      "Returned accuracy: 0.85\n"
     ]
    }
   ],
   "source": [
    "from src.visualization.model_evaluation import train_and_evaluate_model\n",
    "\n",
    "accuracy = train_and_evaluate_model()\n",
    "print(\"Returned accuracy:\", accuracy)\n"
   ]
  },
  {
   "cell_type": "code",
   "execution_count": null,
   "id": "798b3419-e670-43d7-a814-61c3b157d95e",
   "metadata": {},
   "outputs": [],
   "source": []
  }
 ],
 "metadata": {
  "kernelspec": {
   "display_name": "Python 3 (ipykernel)",
   "language": "python",
   "name": "python3"
  },
  "language_info": {
   "codemirror_mode": {
    "name": "ipython",
    "version": 3
   },
   "file_extension": ".py",
   "mimetype": "text/x-python",
   "name": "python",
   "nbconvert_exporter": "python",
   "pygments_lexer": "ipython3",
   "version": "3.12.9"
  }
 },
 "nbformat": 4,
 "nbformat_minor": 5
}
